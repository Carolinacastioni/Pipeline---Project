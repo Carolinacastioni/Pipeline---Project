{
 "cells": [
  {
   "cell_type": "code",
   "execution_count": 1,
   "metadata": {},
   "outputs": [
    {
     "name": "stdout",
     "output_type": "stream",
     "text": [
      "df_clean dataset is done!\n"
     ]
    },
    {
     "data": {
      "text/plain": [
       "True"
      ]
     },
     "execution_count": 1,
     "metadata": {},
     "output_type": "execute_result"
    }
   ],
   "source": [
    "from clean import df_clean\n",
    "import pandas as pd\n",
    "import json\n",
    "import requests\n",
    "import os\n",
    "from dotenv import load_dotenv\n",
    "load_dotenv()"
   ]
  },
  {
   "cell_type": "code",
   "execution_count": 2,
   "metadata": {},
   "outputs": [
    {
     "name": "stdout",
     "output_type": "stream",
     "text": [
      "WE HAVE APIKEY\n"
     ]
    }
   ],
   "source": [
    "apiKey = os.getenv(\"booksKey\")\n",
    "print(\"WE HAVE APIKEY\") if apiKey else print(\"NO APIKEY FOUND\")"
   ]
  },
  {
   "cell_type": "code",
   "execution_count": 3,
   "metadata": {},
   "outputs": [],
   "source": [
    "def getVolumeID(path,queryParams=dict()):\n",
    "    url = f\"https://www.googleapis.com/books/v1/volumes?q=isbn:{path}\"\n",
    "    res = requests.get(url, params=queryParams)\n",
    "    return res.json()"
   ]
  },
  {
   "cell_type": "code",
   "execution_count": 4,
   "metadata": {},
   "outputs": [
    {
     "data": {
      "text/plain": [
       "'7w3zDQAAQBAJ'"
      ]
     },
     "execution_count": 4,
     "metadata": {},
     "output_type": "execute_result"
    }
   ],
   "source": [
    "volume_id = getVolumeID(\"9781612626864\")\n",
    "volume_id = volume_id['items'][0]['id']\n",
    "volume_id"
   ]
  },
  {
   "cell_type": "code",
   "execution_count": 5,
   "metadata": {},
   "outputs": [],
   "source": [
    "def getBooks(volume_id=volume_id,queryParams=dict(),apiKey=\"\"):\n",
    "    url = f\"https://www.googleapis.com/books/v1/volumes/{volume_id}\"\n",
    "    headers = {\"Authorization\":f\"token {apiKey}\"} if apiKey else {}\n",
    "    res = requests.get(url, params=queryParams, headers=headers)\n",
    "    return res.json()"
   ]
  },
  {
   "cell_type": "code",
   "execution_count": 6,
   "metadata": {},
   "outputs": [
    {
     "data": {
      "text/plain": [
       "{'kind': 'books#volume',\n",
       " 'id': '7w3zDQAAQBAJ',\n",
       " 'etag': 'KiG9s+ZVJzI',\n",
       " 'selfLink': 'https://www.googleapis.com/books/v1/volumes/7w3zDQAAQBAJ',\n",
       " 'volumeInfo': {'title': 'Attack on Titan',\n",
       "  'authors': ['Hajime Isayama'],\n",
       "  'publisher': 'Kodansha Comics',\n",
       "  'publishedDate': '2014-07',\n",
       "  'description': \"NO SAFE PLACE LEFT At great cost to the Garrison and the Survey Corps, Commander Erwin has managed to recover Eren from the Titans who tried to carry him off. But during the battle, Eren manifested yet another power he doesn't understand. As Eren and Krista find new enemies, the Survey Corps faces threats from both inside and outside the walls. And what will happen to Ymir, now that she has decided to make herself the Titans' prize?\",\n",
       "  'industryIdentifiers': [{'type': 'ISBN_10', 'identifier': '1612626866'},\n",
       "   {'type': 'ISBN_13', 'identifier': '9781612626864'}],\n",
       "  'readingModes': {'text': True, 'image': True},\n",
       "  'pageCount': 192,\n",
       "  'printedPageCount': 194,\n",
       "  'printType': 'BOOK',\n",
       "  'categories': ['Comics & Graphic Novels / Manga / Science Fiction'],\n",
       "  'averageRating': 4.0,\n",
       "  'ratingsCount': 167,\n",
       "  'maturityRating': 'NOT_MATURE',\n",
       "  'allowAnonLogging': True,\n",
       "  'contentVersion': '1.1.1.0.preview.3',\n",
       "  'panelizationSummary': {'containsEpubBubbles': False,\n",
       "   'containsImageBubbles': False},\n",
       "  'comicsContent': True,\n",
       "  'imageLinks': {'smallThumbnail': 'http://books.google.com/books/content?id=7w3zDQAAQBAJ&printsec=frontcover&img=1&zoom=5&edge=curl&imgtk=AFLRE71TtfXbd_c6aOsrYHo8O0O4ApW3EofN1HITJDpl9UCDOmSOfqWL0Aq0eInx7zNU0b0ZTR00LqCbUbt28at5CCjgV7TDYQ5IwAMncWLAoL4bKK-pIDQOF8Xh0Uxr_Idxo1yEaL-q&source=gbs_api',\n",
       "   'thumbnail': 'http://books.google.com/books/content?id=7w3zDQAAQBAJ&printsec=frontcover&img=1&zoom=1&edge=curl&imgtk=AFLRE71YIAiCuRXkcYCuH-imDtPSkWAjnh-YNqWWsQgF8h_rQvxzAb3QICeoAYkz1y7m8yikIJFGXJHMnZVZf1tgLT4iMt9qhPjyxj-35OmfQjNoCfzTh_ueUckzWEbeob4RswnC0e2g&source=gbs_api',\n",
       "   'small': 'http://books.google.com/books/content?id=7w3zDQAAQBAJ&printsec=frontcover&img=1&zoom=2&edge=curl&imgtk=AFLRE70Y3schww4Bj-LNREswqzIMw83JECEtwCHjO7iCYa01HlkpO9ABC-yyIZl2JhCHLiFMnXfPUmzYO5d2hiDyYEGgtA8JvkW5yC__yqPY9VjWmxT3nl8hjE7BjnZZckU-X0UttFks&source=gbs_api',\n",
       "   'medium': 'http://books.google.com/books/content?id=7w3zDQAAQBAJ&printsec=frontcover&img=1&zoom=3&edge=curl&imgtk=AFLRE70vENET8PoN53QWokAMIgFQMcsIf16gNEIEhp8wX6OI67Euye2HF_C6NpgksJgdR1lSZIC9_H1dIUeLguakEGOrga48ILZY-AQ_iTmatLSVvu-S6nbds8RkUCyjwfCxsmNtYT0B&source=gbs_api',\n",
       "   'large': 'http://books.google.com/books/content?id=7w3zDQAAQBAJ&printsec=frontcover&img=1&zoom=4&edge=curl&imgtk=AFLRE719HImF8Syzs8joGHrmAbu3GfbnPFiaOi7O_UytwDwj5xoRdbpjVCdI5JkNlJ7SAKkTDPrO5PgQUaBLq6ITHmocWwTVME8Y4SfxoGiBvn1MX5P-KtpAKx4FnE7A2UxkCjwgs3M5&source=gbs_api',\n",
       "   'extraLarge': 'http://books.google.com/books/content?id=7w3zDQAAQBAJ&printsec=frontcover&img=1&zoom=6&edge=curl&imgtk=AFLRE73MlJLpQEaJnljVtA4hV7KA4CIVekOUZSxcAGfGbOLouqwHwk4yskn16c51BdoGnHiO675tcRPC_QXAmTwLY3kOHV-kqCBhZrS5V0IkkFgiE6LshhoyAnP1KmQSYKn0QmIIxwE9&source=gbs_api'},\n",
       "  'language': 'en',\n",
       "  'previewLink': 'http://books.google.es/books?id=7w3zDQAAQBAJ&hl=&source=gbs_api',\n",
       "  'infoLink': 'https://play.google.com/store/books/details?id=7w3zDQAAQBAJ&source=gbs_api',\n",
       "  'canonicalVolumeLink': 'https://play.google.com/store/books/details?id=7w3zDQAAQBAJ',\n",
       "  'seriesInfo': {'kind': 'books#volume_series_info',\n",
       "   'bookDisplayNumber': '13',\n",
       "   'volumeSeries': [{'seriesId': 'bof3GgAAABCYnM',\n",
       "     'seriesBookType': 'COLLECTED_EDITION',\n",
       "     'orderNumber': 13}]}},\n",
       " 'layerInfo': {'layers': [{'layerId': 'geo',\n",
       "    'volumeAnnotationsVersion': '3'}]},\n",
       " 'saleInfo': {'country': 'ES',\n",
       "  'saleability': 'FOR_SALE',\n",
       "  'isEbook': True,\n",
       "  'listPrice': {'amount': 12.07, 'currencyCode': 'EUR'},\n",
       "  'retailPrice': {'amount': 11.47, 'currencyCode': 'EUR'},\n",
       "  'buyLink': 'https://play.google.com/store/books/details?id=7w3zDQAAQBAJ&rdid=book-7w3zDQAAQBAJ&rdot=1&source=gbs_api',\n",
       "  'offers': [{'finskyOfferType': 1,\n",
       "    'listPrice': {'amountInMicros': 12070000.0, 'currencyCode': 'EUR'},\n",
       "    'retailPrice': {'amountInMicros': 11470000.0, 'currencyCode': 'EUR'},\n",
       "    'giftable': True}]},\n",
       " 'accessInfo': {'country': 'ES',\n",
       "  'viewability': 'PARTIAL',\n",
       "  'embeddable': True,\n",
       "  'publicDomain': False,\n",
       "  'textToSpeechPermission': 'ALLOWED',\n",
       "  'epub': {'isAvailable': True,\n",
       "   'acsTokenLink': 'http://books.google.es/books/download/Attack_on_Titan-sample-epub.acsm?id=7w3zDQAAQBAJ&format=epub&output=acs4_fulfillment_token&dl_type=sample&source=gbs_api'},\n",
       "  'pdf': {'isAvailable': True,\n",
       "   'acsTokenLink': 'http://books.google.es/books/download/Attack_on_Titan-sample-pdf.acsm?id=7w3zDQAAQBAJ&format=pdf&output=acs4_fulfillment_token&dl_type=sample&source=gbs_api'},\n",
       "  'webReaderLink': 'http://play.google.com/books/reader?id=7w3zDQAAQBAJ&hl=&printsec=frontcover&source=gbs_api',\n",
       "  'accessViewStatus': 'SAMPLE',\n",
       "  'quoteSharingAllowed': False}}"
      ]
     },
     "execution_count": 6,
     "metadata": {},
     "output_type": "execute_result"
    }
   ],
   "source": [
    "book = getBooks(volume_id)\n",
    "book"
   ]
  },
  {
   "cell_type": "code",
   "execution_count": 7,
   "metadata": {},
   "outputs": [],
   "source": [
    "def dataEnrich(book):\n",
    "    if book['saleInfo']['saleability'] == \"NOT_FOR_SALE\":\n",
    "        return \"No available for sale\"\n",
    "    else:\n",
    "        enrich_data = (book['volumeInfo']['title'], book['saleInfo']['saleability'], book['saleInfo']['listPrice'], book['saleInfo']['retailPrice'], book['saleInfo']['buyLink'])\n",
    "        return enrich_data"
   ]
  },
  {
   "cell_type": "code",
   "execution_count": 8,
   "metadata": {},
   "outputs": [],
   "source": [
    "data_enrich = dataEnrich(book)"
   ]
  },
  {
   "cell_type": "code",
   "execution_count": 9,
   "metadata": {},
   "outputs": [
    {
     "data": {
      "text/plain": [
       "('Attack on Titan',\n",
       " 'FOR_SALE',\n",
       " {'amount': 12.07, 'currencyCode': 'EUR'},\n",
       " {'amount': 11.47, 'currencyCode': 'EUR'},\n",
       " 'https://play.google.com/store/books/details?id=7w3zDQAAQBAJ&rdid=book-7w3zDQAAQBAJ&rdot=1&source=gbs_api')"
      ]
     },
     "execution_count": 9,
     "metadata": {},
     "output_type": "execute_result"
    }
   ],
   "source": [
    "data_enrich"
   ]
  },
  {
   "cell_type": "code",
   "execution_count": null,
   "metadata": {},
   "outputs": [],
   "source": []
  }
 ],
 "metadata": {
  "kernelspec": {
   "display_name": "Python 3",
   "language": "python",
   "name": "python3"
  },
  "language_info": {
   "codemirror_mode": {
    "name": "ipython",
    "version": 3
   },
   "file_extension": ".py",
   "mimetype": "text/x-python",
   "name": "python",
   "nbconvert_exporter": "python",
   "pygments_lexer": "ipython3",
   "version": "3.7.5"
  }
 },
 "nbformat": 4,
 "nbformat_minor": 4
}
