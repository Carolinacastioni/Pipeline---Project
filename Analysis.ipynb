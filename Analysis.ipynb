{
 "cells": [
  {
   "cell_type": "code",
   "execution_count": 1,
   "metadata": {},
   "outputs": [
    {
     "name": "stdout",
     "output_type": "stream",
     "text": [
      "df_clean dataset is done!\n",
      "WE HAVE APIKEY\n",
      "('Attack on Titan', 'FOR_SALE', {'amount': 12.07, 'currencyCode': 'EUR'}, {'amount': 11.47, 'currencyCode': 'EUR'}, 'https://play.google.com/store/books/details?id=7w3zDQAAQBAJ&rdid=book-7w3zDQAAQBAJ&rdot=1&source=gbs_api')\n"
     ]
    },
    {
     "data": {
      "text/plain": [
       "True"
      ]
     },
     "execution_count": 1,
     "metadata": {},
     "output_type": "execute_result"
    }
   ],
   "source": [
    "from enrich import lst_sales\n",
    "from clean import df_clean\n",
    "import pandas as pd\n",
    "import os\n",
    "from dotenv import load_dotenv\n",
    "load_dotenv()"
   ]
  },
  {
   "cell_type": "markdown",
   "metadata": {},
   "source": [
    "## Create a DataFrame with Sales Information"
   ]
  },
  {
   "cell_type": "code",
   "execution_count": 2,
   "metadata": {},
   "outputs": [
    {
     "data": {
      "text/plain": [
       "('Attack on Titan',\n",
       " 'FOR_SALE',\n",
       " {'amount': 12.07, 'currencyCode': 'EUR'},\n",
       " {'amount': 11.47, 'currencyCode': 'EUR'},\n",
       " 'https://play.google.com/store/books/details?id=7w3zDQAAQBAJ&rdid=book-7w3zDQAAQBAJ&rdot=1&source=gbs_api')"
      ]
     },
     "execution_count": 2,
     "metadata": {},
     "output_type": "execute_result"
    }
   ],
   "source": [
    "lst_sales[0]"
   ]
  },
  {
   "cell_type": "code",
   "execution_count": 3,
   "metadata": {},
   "outputs": [],
   "source": [
    "data = {}\n",
    "\n",
    "data['title'] = [e[0] for e in lst_sales]\n",
    "data['Avability'] = [e[1] for e in lst_sales]\n",
    "data[\"Link\"] = [l[4] for l in lst_sales]\n",
    "data[\"List price (EUR)\"] = [lp[2]['amount'] for lp in lst_sales]\n",
    "data['Retail price (EUR)'] = [rp[3]['amount'] for rp in lst_sales]\n",
    "\n"
   ]
  },
  {
   "cell_type": "code",
   "execution_count": 4,
   "metadata": {},
   "outputs": [],
   "source": [
    "df_sales_info = pd.DataFrame(data)"
   ]
  },
  {
   "cell_type": "code",
   "execution_count": 5,
   "metadata": {},
   "outputs": [
    {
     "data": {
      "text/html": [
       "<div>\n",
       "<style scoped>\n",
       "    .dataframe tbody tr th:only-of-type {\n",
       "        vertical-align: middle;\n",
       "    }\n",
       "\n",
       "    .dataframe tbody tr th {\n",
       "        vertical-align: top;\n",
       "    }\n",
       "\n",
       "    .dataframe thead th {\n",
       "        text-align: right;\n",
       "    }\n",
       "</style>\n",
       "<table border=\"1\" class=\"dataframe\">\n",
       "  <thead>\n",
       "    <tr style=\"text-align: right;\">\n",
       "      <th></th>\n",
       "      <th>title</th>\n",
       "      <th>Avability</th>\n",
       "      <th>Link</th>\n",
       "      <th>List price (EUR)</th>\n",
       "      <th>Retail price (EUR)</th>\n",
       "    </tr>\n",
       "  </thead>\n",
       "  <tbody>\n",
       "    <tr>\n",
       "      <th>0</th>\n",
       "      <td>Attack on Titan</td>\n",
       "      <td>FOR_SALE</td>\n",
       "      <td>https://play.google.com/store/books/details?id...</td>\n",
       "      <td>12.07</td>\n",
       "      <td>11.47</td>\n",
       "    </tr>\n",
       "    <tr>\n",
       "      <th>1</th>\n",
       "      <td>Antiques Roadkill: A Trash 'n' Treasures Mystery</td>\n",
       "      <td>FOR_SALE</td>\n",
       "      <td>https://play.google.com/store/books/details?id...</td>\n",
       "      <td>2.20</td>\n",
       "      <td>2.09</td>\n",
       "    </tr>\n",
       "    <tr>\n",
       "      <th>2</th>\n",
       "      <td>The Art of Super Mario Odyssey</td>\n",
       "      <td>FOR_SALE</td>\n",
       "      <td>https://play.google.com/store/books/details?id...</td>\n",
       "      <td>12.33</td>\n",
       "      <td>11.71</td>\n",
       "    </tr>\n",
       "    <tr>\n",
       "      <th>3</th>\n",
       "      <td>The Painted Man (The Demon Cycle, Book 1)</td>\n",
       "      <td>FOR_SALE</td>\n",
       "      <td>https://play.google.com/store/books/details?id...</td>\n",
       "      <td>4.84</td>\n",
       "      <td>4.60</td>\n",
       "    </tr>\n",
       "    <tr>\n",
       "      <th>4</th>\n",
       "      <td>A Feast for Crows (A Song of Ice and Fire, Boo...</td>\n",
       "      <td>FOR_SALE</td>\n",
       "      <td>https://play.google.com/store/books/details?id...</td>\n",
       "      <td>7.13</td>\n",
       "      <td>6.77</td>\n",
       "    </tr>\n",
       "  </tbody>\n",
       "</table>\n",
       "</div>"
      ],
      "text/plain": [
       "                                               title Avability  \\\n",
       "0                                    Attack on Titan  FOR_SALE   \n",
       "1   Antiques Roadkill: A Trash 'n' Treasures Mystery  FOR_SALE   \n",
       "2                     The Art of Super Mario Odyssey  FOR_SALE   \n",
       "3          The Painted Man (The Demon Cycle, Book 1)  FOR_SALE   \n",
       "4  A Feast for Crows (A Song of Ice and Fire, Boo...  FOR_SALE   \n",
       "\n",
       "                                                Link  List price (EUR)  \\\n",
       "0  https://play.google.com/store/books/details?id...             12.07   \n",
       "1  https://play.google.com/store/books/details?id...              2.20   \n",
       "2  https://play.google.com/store/books/details?id...             12.33   \n",
       "3  https://play.google.com/store/books/details?id...              4.84   \n",
       "4  https://play.google.com/store/books/details?id...              7.13   \n",
       "\n",
       "   Retail price (EUR)  \n",
       "0               11.47  \n",
       "1                2.09  \n",
       "2               11.71  \n",
       "3                4.60  \n",
       "4                6.77  "
      ]
     },
     "execution_count": 5,
     "metadata": {},
     "output_type": "execute_result"
    }
   ],
   "source": [
    "df_sales_info.head()"
   ]
  },
  {
   "cell_type": "markdown",
   "metadata": {},
   "source": [
    "## Merge both dataframes into one:"
   ]
  },
  {
   "cell_type": "code",
   "execution_count": 6,
   "metadata": {},
   "outputs": [
    {
     "data": {
      "text/html": [
       "<div>\n",
       "<style scoped>\n",
       "    .dataframe tbody tr th:only-of-type {\n",
       "        vertical-align: middle;\n",
       "    }\n",
       "\n",
       "    .dataframe tbody tr th {\n",
       "        vertical-align: top;\n",
       "    }\n",
       "\n",
       "    .dataframe thead th {\n",
       "        text-align: right;\n",
       "    }\n",
       "</style>\n",
       "<table border=\"1\" class=\"dataframe\">\n",
       "  <thead>\n",
       "    <tr style=\"text-align: right;\">\n",
       "      <th></th>\n",
       "      <th>title</th>\n",
       "      <th>author</th>\n",
       "    </tr>\n",
       "    <tr>\n",
       "      <th>ISBN</th>\n",
       "      <th></th>\n",
       "      <th></th>\n",
       "    </tr>\n",
       "  </thead>\n",
       "  <tbody>\n",
       "    <tr>\n",
       "      <th>9781612626864</th>\n",
       "      <td>Attack on Titan: Volume 13</td>\n",
       "      <td>Hajime Isayama</td>\n",
       "    </tr>\n",
       "    <tr>\n",
       "      <th>9780758272799</th>\n",
       "      <td>Antiques Roadkill: A Trash 'n' Treasures Mystery</td>\n",
       "      <td>Barbara Allan</td>\n",
       "    </tr>\n",
       "    <tr>\n",
       "      <th>9781506713816</th>\n",
       "      <td>The Art of Super Mario Odyssey</td>\n",
       "      <td>Nintendo</td>\n",
       "    </tr>\n",
       "    <tr>\n",
       "      <th>9781617734076</th>\n",
       "      <td>Getting Away Is Deadly: An Ellie Avery Mystery</td>\n",
       "      <td>Sara Rosett</td>\n",
       "    </tr>\n",
       "    <tr>\n",
       "      <th>9780007287758</th>\n",
       "      <td>The Painted Man (The Demon Cycle, Book 1)</td>\n",
       "      <td>Peter V. Brett</td>\n",
       "    </tr>\n",
       "  </tbody>\n",
       "</table>\n",
       "</div>"
      ],
      "text/plain": [
       "                                                          title  \\\n",
       "ISBN                                                              \n",
       "9781612626864                        Attack on Titan: Volume 13   \n",
       "9780758272799  Antiques Roadkill: A Trash 'n' Treasures Mystery   \n",
       "9781506713816                    The Art of Super Mario Odyssey   \n",
       "9781617734076    Getting Away Is Deadly: An Ellie Avery Mystery   \n",
       "9780007287758         The Painted Man (The Demon Cycle, Book 1)   \n",
       "\n",
       "                       author  \n",
       "ISBN                           \n",
       "9781612626864  Hajime Isayama  \n",
       "9780758272799   Barbara Allan  \n",
       "9781506713816        Nintendo  \n",
       "9781617734076     Sara Rosett  \n",
       "9780007287758  Peter V. Brett  "
      ]
     },
     "execution_count": 6,
     "metadata": {},
     "output_type": "execute_result"
    }
   ],
   "source": [
    "df_clean.head()"
   ]
  },
  {
   "cell_type": "code",
   "execution_count": 7,
   "metadata": {},
   "outputs": [
    {
     "data": {
      "text/html": [
       "<div>\n",
       "<style scoped>\n",
       "    .dataframe tbody tr th:only-of-type {\n",
       "        vertical-align: middle;\n",
       "    }\n",
       "\n",
       "    .dataframe tbody tr th {\n",
       "        vertical-align: top;\n",
       "    }\n",
       "\n",
       "    .dataframe thead th {\n",
       "        text-align: right;\n",
       "    }\n",
       "</style>\n",
       "<table border=\"1\" class=\"dataframe\">\n",
       "  <thead>\n",
       "    <tr style=\"text-align: right;\">\n",
       "      <th></th>\n",
       "      <th>title</th>\n",
       "      <th>author</th>\n",
       "      <th>Avability</th>\n",
       "      <th>Link</th>\n",
       "      <th>List price (EUR)</th>\n",
       "      <th>Retail price (EUR)</th>\n",
       "    </tr>\n",
       "  </thead>\n",
       "  <tbody>\n",
       "    <tr>\n",
       "      <th>0</th>\n",
       "      <td>Antiques Roadkill: A Trash 'n' Treasures Mystery</td>\n",
       "      <td>Barbara Allan</td>\n",
       "      <td>FOR_SALE</td>\n",
       "      <td>https://play.google.com/store/books/details?id...</td>\n",
       "      <td>2.20</td>\n",
       "      <td>2.09</td>\n",
       "    </tr>\n",
       "    <tr>\n",
       "      <th>1</th>\n",
       "      <td>The Art of Super Mario Odyssey</td>\n",
       "      <td>Nintendo</td>\n",
       "      <td>FOR_SALE</td>\n",
       "      <td>https://play.google.com/store/books/details?id...</td>\n",
       "      <td>12.33</td>\n",
       "      <td>11.71</td>\n",
       "    </tr>\n",
       "    <tr>\n",
       "      <th>2</th>\n",
       "      <td>The Painted Man (The Demon Cycle, Book 1)</td>\n",
       "      <td>Peter V. Brett</td>\n",
       "      <td>FOR_SALE</td>\n",
       "      <td>https://play.google.com/store/books/details?id...</td>\n",
       "      <td>4.84</td>\n",
       "      <td>4.60</td>\n",
       "    </tr>\n",
       "    <tr>\n",
       "      <th>3</th>\n",
       "      <td>A Feast for Crows (A Song of Ice and Fire, Boo...</td>\n",
       "      <td>George R.R. Martin</td>\n",
       "      <td>FOR_SALE</td>\n",
       "      <td>https://play.google.com/store/books/details?id...</td>\n",
       "      <td>7.13</td>\n",
       "      <td>6.77</td>\n",
       "    </tr>\n",
       "    <tr>\n",
       "      <th>4</th>\n",
       "      <td>The Mysterious Affair at Styles (Poirot)</td>\n",
       "      <td>Agatha Christie</td>\n",
       "      <td>FOR_SALE</td>\n",
       "      <td>https://play.google.com/store/books/details?id...</td>\n",
       "      <td>4.70</td>\n",
       "      <td>4.46</td>\n",
       "    </tr>\n",
       "  </tbody>\n",
       "</table>\n",
       "</div>"
      ],
      "text/plain": [
       "                                               title              author  \\\n",
       "0   Antiques Roadkill: A Trash 'n' Treasures Mystery       Barbara Allan   \n",
       "1                     The Art of Super Mario Odyssey            Nintendo   \n",
       "2          The Painted Man (The Demon Cycle, Book 1)      Peter V. Brett   \n",
       "3  A Feast for Crows (A Song of Ice and Fire, Boo...  George R.R. Martin   \n",
       "4           The Mysterious Affair at Styles (Poirot)     Agatha Christie   \n",
       "\n",
       "  Avability                                               Link  \\\n",
       "0  FOR_SALE  https://play.google.com/store/books/details?id...   \n",
       "1  FOR_SALE  https://play.google.com/store/books/details?id...   \n",
       "2  FOR_SALE  https://play.google.com/store/books/details?id...   \n",
       "3  FOR_SALE  https://play.google.com/store/books/details?id...   \n",
       "4  FOR_SALE  https://play.google.com/store/books/details?id...   \n",
       "\n",
       "   List price (EUR)  Retail price (EUR)  \n",
       "0              2.20                2.09  \n",
       "1             12.33               11.71  \n",
       "2              4.84                4.60  \n",
       "3              7.13                6.77  \n",
       "4              4.70                4.46  "
      ]
     },
     "execution_count": 7,
     "metadata": {},
     "output_type": "execute_result"
    }
   ],
   "source": [
    "df_analisis = pd.merge(df_clean, df_sales_info, on='title')\n",
    "df_analisis.head()"
   ]
  },
  {
   "cell_type": "code",
   "execution_count": 8,
   "metadata": {},
   "outputs": [],
   "source": [
    "df_analisis['List price (EUR)'] = df_analisis['List price (EUR)'].astype(float)"
   ]
  },
  {
   "cell_type": "code",
   "execution_count": 9,
   "metadata": {},
   "outputs": [],
   "source": [
    "df_analisis['Retail price (EUR)'] = df_analisis['Retail price (EUR)'].astype(float)"
   ]
  },
  {
   "cell_type": "code",
   "execution_count": 10,
   "metadata": {},
   "outputs": [
    {
     "data": {
      "text/html": [
       "<div>\n",
       "<style scoped>\n",
       "    .dataframe tbody tr th:only-of-type {\n",
       "        vertical-align: middle;\n",
       "    }\n",
       "\n",
       "    .dataframe tbody tr th {\n",
       "        vertical-align: top;\n",
       "    }\n",
       "\n",
       "    .dataframe thead th {\n",
       "        text-align: right;\n",
       "    }\n",
       "</style>\n",
       "<table border=\"1\" class=\"dataframe\">\n",
       "  <thead>\n",
       "    <tr style=\"text-align: right;\">\n",
       "      <th></th>\n",
       "      <th>title</th>\n",
       "      <th>author</th>\n",
       "      <th>Avability</th>\n",
       "      <th>Link</th>\n",
       "      <th>List price (EUR)</th>\n",
       "      <th>Retail price (EUR)</th>\n",
       "    </tr>\n",
       "  </thead>\n",
       "  <tbody>\n",
       "    <tr>\n",
       "      <th>0</th>\n",
       "      <td>Antiques Roadkill: A Trash 'n' Treasures Mystery</td>\n",
       "      <td>Barbara Allan</td>\n",
       "      <td>FOR_SALE</td>\n",
       "      <td>https://play.google.com/store/books/details?id...</td>\n",
       "      <td>2.20</td>\n",
       "      <td>2.09</td>\n",
       "    </tr>\n",
       "    <tr>\n",
       "      <th>1</th>\n",
       "      <td>The Art of Super Mario Odyssey</td>\n",
       "      <td>Nintendo</td>\n",
       "      <td>FOR_SALE</td>\n",
       "      <td>https://play.google.com/store/books/details?id...</td>\n",
       "      <td>12.33</td>\n",
       "      <td>11.71</td>\n",
       "    </tr>\n",
       "    <tr>\n",
       "      <th>2</th>\n",
       "      <td>The Painted Man (The Demon Cycle, Book 1)</td>\n",
       "      <td>Peter V. Brett</td>\n",
       "      <td>FOR_SALE</td>\n",
       "      <td>https://play.google.com/store/books/details?id...</td>\n",
       "      <td>4.84</td>\n",
       "      <td>4.60</td>\n",
       "    </tr>\n",
       "    <tr>\n",
       "      <th>3</th>\n",
       "      <td>A Feast for Crows (A Song of Ice and Fire, Boo...</td>\n",
       "      <td>George R.R. Martin</td>\n",
       "      <td>FOR_SALE</td>\n",
       "      <td>https://play.google.com/store/books/details?id...</td>\n",
       "      <td>7.13</td>\n",
       "      <td>6.77</td>\n",
       "    </tr>\n",
       "    <tr>\n",
       "      <th>4</th>\n",
       "      <td>The Mysterious Affair at Styles (Poirot)</td>\n",
       "      <td>Agatha Christie</td>\n",
       "      <td>FOR_SALE</td>\n",
       "      <td>https://play.google.com/store/books/details?id...</td>\n",
       "      <td>4.70</td>\n",
       "      <td>4.46</td>\n",
       "    </tr>\n",
       "  </tbody>\n",
       "</table>\n",
       "</div>"
      ],
      "text/plain": [
       "                                               title              author  \\\n",
       "0   Antiques Roadkill: A Trash 'n' Treasures Mystery       Barbara Allan   \n",
       "1                     The Art of Super Mario Odyssey            Nintendo   \n",
       "2          The Painted Man (The Demon Cycle, Book 1)      Peter V. Brett   \n",
       "3  A Feast for Crows (A Song of Ice and Fire, Boo...  George R.R. Martin   \n",
       "4           The Mysterious Affair at Styles (Poirot)     Agatha Christie   \n",
       "\n",
       "  Avability                                               Link  \\\n",
       "0  FOR_SALE  https://play.google.com/store/books/details?id...   \n",
       "1  FOR_SALE  https://play.google.com/store/books/details?id...   \n",
       "2  FOR_SALE  https://play.google.com/store/books/details?id...   \n",
       "3  FOR_SALE  https://play.google.com/store/books/details?id...   \n",
       "4  FOR_SALE  https://play.google.com/store/books/details?id...   \n",
       "\n",
       "   List price (EUR)  Retail price (EUR)  \n",
       "0              2.20                2.09  \n",
       "1             12.33               11.71  \n",
       "2              4.84                4.60  \n",
       "3              7.13                6.77  \n",
       "4              4.70                4.46  "
      ]
     },
     "execution_count": 10,
     "metadata": {},
     "output_type": "execute_result"
    }
   ],
   "source": [
    "df_analisis.head()"
   ]
  }
 ],
 "metadata": {
  "kernelspec": {
   "display_name": "Python 3",
   "language": "python",
   "name": "python3"
  },
  "language_info": {
   "codemirror_mode": {
    "name": "ipython",
    "version": 3
   },
   "file_extension": ".py",
   "mimetype": "text/x-python",
   "name": "python",
   "nbconvert_exporter": "python",
   "pygments_lexer": "ipython3",
   "version": "3.7.5"
  }
 },
 "nbformat": 4,
 "nbformat_minor": 4
}
