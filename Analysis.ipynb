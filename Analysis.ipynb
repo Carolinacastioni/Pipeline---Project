{
 "cells": [
  {
   "cell_type": "code",
   "execution_count": 11,
   "metadata": {},
   "outputs": [
    {
     "data": {
      "text/plain": [
       "True"
      ]
     },
     "execution_count": 11,
     "metadata": {},
     "output_type": "execute_result"
    }
   ],
   "source": [
    "from enrich import *\n",
    "from clean import df_clean\n",
    "import pandas as pd\n",
    "import os\n",
    "from dotenv import load_dotenv\n",
    "load_dotenv()"
   ]
  },
  {
   "cell_type": "code",
   "execution_count": 12,
   "metadata": {},
   "outputs": [
    {
     "ename": "NameError",
     "evalue": "name 'lst_sales' is not defined",
     "output_type": "error",
     "traceback": [
      "\u001b[0;31m---------------------------------------------------------------------------\u001b[0m",
      "\u001b[0;31mNameError\u001b[0m                                 Traceback (most recent call last)",
      "\u001b[0;32m<ipython-input-12-ea572974c051>\u001b[0m in \u001b[0;36m<module>\u001b[0;34m\u001b[0m\n\u001b[0;32m----> 1\u001b[0;31m \u001b[0mlst_sales\u001b[0m\u001b[0;34m[\u001b[0m\u001b[0;36m0\u001b[0m\u001b[0;34m]\u001b[0m\u001b[0;34m\u001b[0m\u001b[0;34m\u001b[0m\u001b[0m\n\u001b[0m",
      "\u001b[0;31mNameError\u001b[0m: name 'lst_sales' is not defined"
     ]
    }
   ],
   "source": [
    "lst_sales[0]"
   ]
  },
  {
   "cell_type": "code",
   "execution_count": 2,
   "metadata": {},
   "outputs": [],
   "source": [
    "def analisis(df):\n",
    "    lst = [e for e in data_enrich]\n",
    "    lst2 = [lp for lp in lst[2].values()]\n",
    "    lst3 = [rp for rp in lst[3].values()]\n",
    "    df[\"Availability\"] = lst[1]\n",
    "    df[\"List_Price(EUR)\"] = float(lst2[0])\n",
    "    df[\"Retail_Price(EUR)\"] = float(lst3[0])\n",
    "    df[\"Link\"] = lst[4]\n",
    "    return df"
   ]
  },
  {
   "cell_type": "code",
   "execution_count": 3,
   "metadata": {},
   "outputs": [],
   "source": [
    "df_analisis = analisis(df_clean)"
   ]
  },
  {
   "cell_type": "code",
   "execution_count": 4,
   "metadata": {},
   "outputs": [
    {
     "data": {
      "text/html": [
       "<div>\n",
       "<style scoped>\n",
       "    .dataframe tbody tr th:only-of-type {\n",
       "        vertical-align: middle;\n",
       "    }\n",
       "\n",
       "    .dataframe tbody tr th {\n",
       "        vertical-align: top;\n",
       "    }\n",
       "\n",
       "    .dataframe thead th {\n",
       "        text-align: right;\n",
       "    }\n",
       "</style>\n",
       "<table border=\"1\" class=\"dataframe\">\n",
       "  <thead>\n",
       "    <tr style=\"text-align: right;\">\n",
       "      <th></th>\n",
       "      <th>title</th>\n",
       "      <th>author</th>\n",
       "      <th>Availability</th>\n",
       "      <th>List_Price(EUR)</th>\n",
       "      <th>Retail_Price(EUR)</th>\n",
       "      <th>Link</th>\n",
       "    </tr>\n",
       "    <tr>\n",
       "      <th>ISBN</th>\n",
       "      <th></th>\n",
       "      <th></th>\n",
       "      <th></th>\n",
       "      <th></th>\n",
       "      <th></th>\n",
       "      <th></th>\n",
       "    </tr>\n",
       "  </thead>\n",
       "  <tbody>\n",
       "    <tr>\n",
       "      <th>9781612626864</th>\n",
       "      <td>Attack on Titan: Volume 13</td>\n",
       "      <td>Hajime Isayama</td>\n",
       "      <td>FOR_SALE</td>\n",
       "      <td>12.07</td>\n",
       "      <td>11.47</td>\n",
       "      <td>https://play.google.com/store/books/details?id...</td>\n",
       "    </tr>\n",
       "    <tr>\n",
       "      <th>9780758272799</th>\n",
       "      <td>Antiques Roadkill: A Trash 'n' Treasures Mystery</td>\n",
       "      <td>Barbara Allan</td>\n",
       "      <td>FOR_SALE</td>\n",
       "      <td>12.07</td>\n",
       "      <td>11.47</td>\n",
       "      <td>https://play.google.com/store/books/details?id...</td>\n",
       "    </tr>\n",
       "    <tr>\n",
       "      <th>9781506713816</th>\n",
       "      <td>The Art of Super Mario Odyssey</td>\n",
       "      <td>Nintendo</td>\n",
       "      <td>FOR_SALE</td>\n",
       "      <td>12.07</td>\n",
       "      <td>11.47</td>\n",
       "      <td>https://play.google.com/store/books/details?id...</td>\n",
       "    </tr>\n",
       "    <tr>\n",
       "      <th>9781617734076</th>\n",
       "      <td>Getting Away Is Deadly: An Ellie Avery Mystery</td>\n",
       "      <td>Sara Rosett</td>\n",
       "      <td>FOR_SALE</td>\n",
       "      <td>12.07</td>\n",
       "      <td>11.47</td>\n",
       "      <td>https://play.google.com/store/books/details?id...</td>\n",
       "    </tr>\n",
       "    <tr>\n",
       "      <th>9780007287758</th>\n",
       "      <td>The Painted Man (The Demon Cycle, Book 1)</td>\n",
       "      <td>Peter V. Brett</td>\n",
       "      <td>FOR_SALE</td>\n",
       "      <td>12.07</td>\n",
       "      <td>11.47</td>\n",
       "      <td>https://play.google.com/store/books/details?id...</td>\n",
       "    </tr>\n",
       "  </tbody>\n",
       "</table>\n",
       "</div>"
      ],
      "text/plain": [
       "                                                          title  \\\n",
       "ISBN                                                              \n",
       "9781612626864                        Attack on Titan: Volume 13   \n",
       "9780758272799  Antiques Roadkill: A Trash 'n' Treasures Mystery   \n",
       "9781506713816                    The Art of Super Mario Odyssey   \n",
       "9781617734076    Getting Away Is Deadly: An Ellie Avery Mystery   \n",
       "9780007287758         The Painted Man (The Demon Cycle, Book 1)   \n",
       "\n",
       "                       author Availability  List_Price(EUR)  \\\n",
       "ISBN                                                          \n",
       "9781612626864  Hajime Isayama     FOR_SALE            12.07   \n",
       "9780758272799   Barbara Allan     FOR_SALE            12.07   \n",
       "9781506713816        Nintendo     FOR_SALE            12.07   \n",
       "9781617734076     Sara Rosett     FOR_SALE            12.07   \n",
       "9780007287758  Peter V. Brett     FOR_SALE            12.07   \n",
       "\n",
       "               Retail_Price(EUR)  \\\n",
       "ISBN                               \n",
       "9781612626864              11.47   \n",
       "9780758272799              11.47   \n",
       "9781506713816              11.47   \n",
       "9781617734076              11.47   \n",
       "9780007287758              11.47   \n",
       "\n",
       "                                                            Link  \n",
       "ISBN                                                              \n",
       "9781612626864  https://play.google.com/store/books/details?id...  \n",
       "9780758272799  https://play.google.com/store/books/details?id...  \n",
       "9781506713816  https://play.google.com/store/books/details?id...  \n",
       "9781617734076  https://play.google.com/store/books/details?id...  \n",
       "9780007287758  https://play.google.com/store/books/details?id...  "
      ]
     },
     "execution_count": 4,
     "metadata": {},
     "output_type": "execute_result"
    }
   ],
   "source": [
    "df_analisis.head()"
   ]
  },
  {
   "cell_type": "code",
   "execution_count": 5,
   "metadata": {},
   "outputs": [],
   "source": [
    "def results(df_results):\n",
    "    df_results[\"Difference between List and Retail price\"] = df_results[\"List_Price(EUR)\"] - df_results[\"Retail_Price(EUR)\"]\n",
    "    df_results[\"Results_Description\"] = df_results[\"Difference between List and Retail price\"] > 0\n",
    "    df_results.loc[df_results[\"Results_Description\"] == True,\"Results_Description\"] = \"Good deal! The retail prices is lower than the list price.\"\n",
    "    df_results.loc[df_results[\"Results_Description\"] == False,\"Results_Description\"] = \"This is not ideal! The retail prices is higher than the list price.\"\n",
    "    return df_results"
   ]
  },
  {
   "cell_type": "code",
   "execution_count": 6,
   "metadata": {},
   "outputs": [],
   "source": [
    "df_results = results(df_analisis)"
   ]
  },
  {
   "cell_type": "code",
   "execution_count": 7,
   "metadata": {},
   "outputs": [
    {
     "data": {
      "text/plain": [
       "title                                                              Attack on Titan: Volume 13\n",
       "author                                                                         Hajime Isayama\n",
       "Availability                                                                         FOR_SALE\n",
       "List_Price(EUR)                                                                         12.07\n",
       "Retail_Price(EUR)                                                                       11.47\n",
       "Link                                        https://play.google.com/store/books/details?id...\n",
       "Difference between List and Retail price                                                  0.6\n",
       "Results_Description                         Good deal! The retail prices is lower than the...\n",
       "Name: 9781612626864, dtype: object"
      ]
     },
     "execution_count": 7,
     "metadata": {},
     "output_type": "execute_result"
    }
   ],
   "source": [
    "df_results = df_results.iloc[0]\n",
    "df_results"
   ]
  },
  {
   "cell_type": "code",
   "execution_count": 8,
   "metadata": {},
   "outputs": [
    {
     "name": "stdout",
     "output_type": "stream",
     "text": [
      "Good deal! The retail prices is lower than the list price. The difference between the List Price and the Retail Price is 0.5999999999999996 €\n"
     ]
    }
   ],
   "source": [
    "a = df_results['Results_Description']\n",
    "b = df_results['Difference between List and Retail price']\n",
    "print(a, \"The difference between the List Price and the Retail Price is\",b,\"€\")"
   ]
  },
  {
   "cell_type": "code",
   "execution_count": null,
   "metadata": {},
   "outputs": [],
   "source": []
  },
  {
   "cell_type": "code",
   "execution_count": null,
   "metadata": {},
   "outputs": [],
   "source": []
  },
  {
   "cell_type": "code",
   "execution_count": null,
   "metadata": {},
   "outputs": [],
   "source": []
  },
  {
   "cell_type": "code",
   "execution_count": null,
   "metadata": {},
   "outputs": [],
   "source": []
  },
  {
   "cell_type": "code",
   "execution_count": null,
   "metadata": {},
   "outputs": [],
   "source": []
  },
  {
   "cell_type": "code",
   "execution_count": null,
   "metadata": {},
   "outputs": [],
   "source": []
  },
  {
   "cell_type": "code",
   "execution_count": null,
   "metadata": {},
   "outputs": [],
   "source": []
  },
  {
   "cell_type": "code",
   "execution_count": null,
   "metadata": {},
   "outputs": [],
   "source": []
  }
 ],
 "metadata": {
  "kernelspec": {
   "display_name": "Python 3",
   "language": "python",
   "name": "python3"
  },
  "language_info": {
   "codemirror_mode": {
    "name": "ipython",
    "version": 3
   },
   "file_extension": ".py",
   "mimetype": "text/x-python",
   "name": "python",
   "nbconvert_exporter": "python",
   "pygments_lexer": "ipython3",
   "version": "3.7.5"
  }
 },
 "nbformat": 4,
 "nbformat_minor": 4
}
