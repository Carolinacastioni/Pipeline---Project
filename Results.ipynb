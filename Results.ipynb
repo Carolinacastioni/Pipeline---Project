{
 "cells": [
  {
   "cell_type": "code",
   "execution_count": 1,
   "metadata": {
    "scrolled": true
   },
   "outputs": [
    {
     "name": "stdout",
     "output_type": "stream",
     "text": [
      "WE HAVE APIKEY\n"
     ]
    }
   ],
   "source": [
    "from analysis import df_analisis\n",
    "import pandas as pd"
   ]
  },
  {
   "cell_type": "code",
   "execution_count": 2,
   "metadata": {},
   "outputs": [],
   "source": [
    "def results(df_results):\n",
    "    df_results[\"Difference between List and Retail price\"] = df_results[\"List price (EUR)\"] - df_results[\"Retail price (EUR)\"]\n",
    "    df_results[\"Results_Description\"] = df_results[\"Difference between List and Retail price\"] >= 0\n",
    "    df_results.loc[df_results[\"Results_Description\"] == True,\"Results_Description\"] = \"Good deal! The retail prices is lower than the list price.\"\n",
    "    df_results.loc[df_results[\"Results_Description\"] == False,\"Results_Description\"] = \"This is not ideal! The retail prices is higher than the list price.\"\n",
    "    return df_results"
   ]
  },
  {
   "cell_type": "code",
   "execution_count": 3,
   "metadata": {},
   "outputs": [],
   "source": [
    "results = results(df_analisis)"
   ]
  },
  {
   "cell_type": "code",
   "execution_count": 4,
   "metadata": {
    "scrolled": false
   },
   "outputs": [
    {
     "data": {
      "text/html": [
       "<div>\n",
       "<style scoped>\n",
       "    .dataframe tbody tr th:only-of-type {\n",
       "        vertical-align: middle;\n",
       "    }\n",
       "\n",
       "    .dataframe tbody tr th {\n",
       "        vertical-align: top;\n",
       "    }\n",
       "\n",
       "    .dataframe thead th {\n",
       "        text-align: right;\n",
       "    }\n",
       "</style>\n",
       "<table border=\"1\" class=\"dataframe\">\n",
       "  <thead>\n",
       "    <tr style=\"text-align: right;\">\n",
       "      <th></th>\n",
       "      <th>title</th>\n",
       "      <th>author</th>\n",
       "      <th>Avability</th>\n",
       "      <th>Link</th>\n",
       "      <th>List price (EUR)</th>\n",
       "      <th>Retail price (EUR)</th>\n",
       "      <th>Difference between List and Retail price</th>\n",
       "      <th>Results_Description</th>\n",
       "    </tr>\n",
       "  </thead>\n",
       "  <tbody>\n",
       "    <tr>\n",
       "      <th>0</th>\n",
       "      <td>Antiques Roadkill: A Trash 'n' Treasures Mystery</td>\n",
       "      <td>Barbara Allan</td>\n",
       "      <td>FOR_SALE</td>\n",
       "      <td>https://play.google.com/store/books/details?id...</td>\n",
       "      <td>2.20</td>\n",
       "      <td>2.09</td>\n",
       "      <td>0.11</td>\n",
       "      <td>Good deal! The retail prices is lower than the...</td>\n",
       "    </tr>\n",
       "    <tr>\n",
       "      <th>1</th>\n",
       "      <td>The Art of Super Mario Odyssey</td>\n",
       "      <td>Nintendo</td>\n",
       "      <td>FOR_SALE</td>\n",
       "      <td>https://play.google.com/store/books/details?id...</td>\n",
       "      <td>12.33</td>\n",
       "      <td>11.71</td>\n",
       "      <td>0.62</td>\n",
       "      <td>Good deal! The retail prices is lower than the...</td>\n",
       "    </tr>\n",
       "    <tr>\n",
       "      <th>2</th>\n",
       "      <td>The Painted Man (The Demon Cycle, Book 1)</td>\n",
       "      <td>Peter V. Brett</td>\n",
       "      <td>FOR_SALE</td>\n",
       "      <td>https://play.google.com/store/books/details?id...</td>\n",
       "      <td>4.84</td>\n",
       "      <td>4.60</td>\n",
       "      <td>0.24</td>\n",
       "      <td>Good deal! The retail prices is lower than the...</td>\n",
       "    </tr>\n",
       "    <tr>\n",
       "      <th>3</th>\n",
       "      <td>A Feast for Crows (A Song of Ice and Fire, Boo...</td>\n",
       "      <td>George R.R. Martin</td>\n",
       "      <td>FOR_SALE</td>\n",
       "      <td>https://play.google.com/store/books/details?id...</td>\n",
       "      <td>7.13</td>\n",
       "      <td>6.77</td>\n",
       "      <td>0.36</td>\n",
       "      <td>Good deal! The retail prices is lower than the...</td>\n",
       "    </tr>\n",
       "    <tr>\n",
       "      <th>4</th>\n",
       "      <td>The Mysterious Affair at Styles (Poirot)</td>\n",
       "      <td>Agatha Christie</td>\n",
       "      <td>FOR_SALE</td>\n",
       "      <td>https://play.google.com/store/books/details?id...</td>\n",
       "      <td>4.70</td>\n",
       "      <td>4.46</td>\n",
       "      <td>0.24</td>\n",
       "      <td>Good deal! The retail prices is lower than the...</td>\n",
       "    </tr>\n",
       "  </tbody>\n",
       "</table>\n",
       "</div>"
      ],
      "text/plain": [
       "                                               title              author  \\\n",
       "0   Antiques Roadkill: A Trash 'n' Treasures Mystery       Barbara Allan   \n",
       "1                     The Art of Super Mario Odyssey            Nintendo   \n",
       "2          The Painted Man (The Demon Cycle, Book 1)      Peter V. Brett   \n",
       "3  A Feast for Crows (A Song of Ice and Fire, Boo...  George R.R. Martin   \n",
       "4           The Mysterious Affair at Styles (Poirot)     Agatha Christie   \n",
       "\n",
       "  Avability                                               Link  \\\n",
       "0  FOR_SALE  https://play.google.com/store/books/details?id...   \n",
       "1  FOR_SALE  https://play.google.com/store/books/details?id...   \n",
       "2  FOR_SALE  https://play.google.com/store/books/details?id...   \n",
       "3  FOR_SALE  https://play.google.com/store/books/details?id...   \n",
       "4  FOR_SALE  https://play.google.com/store/books/details?id...   \n",
       "\n",
       "   List price (EUR)  Retail price (EUR)  \\\n",
       "0              2.20                2.09   \n",
       "1             12.33               11.71   \n",
       "2              4.84                4.60   \n",
       "3              7.13                6.77   \n",
       "4              4.70                4.46   \n",
       "\n",
       "   Difference between List and Retail price  \\\n",
       "0                                      0.11   \n",
       "1                                      0.62   \n",
       "2                                      0.24   \n",
       "3                                      0.36   \n",
       "4                                      0.24   \n",
       "\n",
       "                                 Results_Description  \n",
       "0  Good deal! The retail prices is lower than the...  \n",
       "1  Good deal! The retail prices is lower than the...  \n",
       "2  Good deal! The retail prices is lower than the...  \n",
       "3  Good deal! The retail prices is lower than the...  \n",
       "4  Good deal! The retail prices is lower than the...  "
      ]
     },
     "execution_count": 4,
     "metadata": {},
     "output_type": "execute_result"
    }
   ],
   "source": [
    "results.head()"
   ]
  },
  {
   "cell_type": "markdown",
   "metadata": {},
   "source": [
    "## Result"
   ]
  },
  {
   "cell_type": "code",
   "execution_count": 49,
   "metadata": {},
   "outputs": [],
   "source": [
    "def books_analysis(title, budget):\n",
    "    new_df = results[results['title'] == str(title)]\n",
    "    new_dff = new_df[new_df['Retail price (EUR)'] <= int(budget)]\n",
    "    if new_dff.empty == True:\n",
    "        return \"Sorry, we don't have any book available with this title in this budget\"\n",
    "    else:\n",
    "        return new_dff"
   ]
  },
  {
   "cell_type": "code",
   "execution_count": 50,
   "metadata": {},
   "outputs": [
    {
     "data": {
      "text/html": [
       "<div>\n",
       "<style scoped>\n",
       "    .dataframe tbody tr th:only-of-type {\n",
       "        vertical-align: middle;\n",
       "    }\n",
       "\n",
       "    .dataframe tbody tr th {\n",
       "        vertical-align: top;\n",
       "    }\n",
       "\n",
       "    .dataframe thead th {\n",
       "        text-align: right;\n",
       "    }\n",
       "</style>\n",
       "<table border=\"1\" class=\"dataframe\">\n",
       "  <thead>\n",
       "    <tr style=\"text-align: right;\">\n",
       "      <th></th>\n",
       "      <th>title</th>\n",
       "      <th>author</th>\n",
       "      <th>Avability</th>\n",
       "      <th>Link</th>\n",
       "      <th>List price (EUR)</th>\n",
       "      <th>Retail price (EUR)</th>\n",
       "      <th>Difference between List and Retail price</th>\n",
       "      <th>Results_Description</th>\n",
       "    </tr>\n",
       "  </thead>\n",
       "  <tbody>\n",
       "    <tr>\n",
       "      <th>1</th>\n",
       "      <td>The Art of Super Mario Odyssey</td>\n",
       "      <td>Nintendo</td>\n",
       "      <td>FOR_SALE</td>\n",
       "      <td>https://play.google.com/store/books/details?id...</td>\n",
       "      <td>12.33</td>\n",
       "      <td>11.71</td>\n",
       "      <td>0.62</td>\n",
       "      <td>Good deal! The retail prices is lower than the...</td>\n",
       "    </tr>\n",
       "  </tbody>\n",
       "</table>\n",
       "</div>"
      ],
      "text/plain": [
       "                            title    author Avability  \\\n",
       "1  The Art of Super Mario Odyssey  Nintendo  FOR_SALE   \n",
       "\n",
       "                                                Link  List price (EUR)  \\\n",
       "1  https://play.google.com/store/books/details?id...             12.33   \n",
       "\n",
       "   Retail price (EUR)  Difference between List and Retail price  \\\n",
       "1               11.71                                      0.62   \n",
       "\n",
       "                                 Results_Description  \n",
       "1  Good deal! The retail prices is lower than the...  "
      ]
     },
     "execution_count": 50,
     "metadata": {},
     "output_type": "execute_result"
    }
   ],
   "source": [
    "books_analysis(\"The Art of Super Mario Odyssey\", 15)"
   ]
  }
 ],
 "metadata": {
  "kernelspec": {
   "display_name": "Python 3",
   "language": "python",
   "name": "python3"
  },
  "language_info": {
   "codemirror_mode": {
    "name": "ipython",
    "version": 3
   },
   "file_extension": ".py",
   "mimetype": "text/x-python",
   "name": "python",
   "nbconvert_exporter": "python",
   "pygments_lexer": "ipython3",
   "version": "3.7.5"
  }
 },
 "nbformat": 4,
 "nbformat_minor": 4
}
