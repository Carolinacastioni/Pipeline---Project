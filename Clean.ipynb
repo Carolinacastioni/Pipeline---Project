{
 "cells": [
  {
   "cell_type": "code",
   "execution_count": 1,
   "metadata": {},
   "outputs": [],
   "source": [
    "from acquisition import df\n",
    "import pandas as pd\n",
    "import os"
   ]
  },
  {
   "cell_type": "code",
   "execution_count": 2,
   "metadata": {},
   "outputs": [],
   "source": [
    "def drop_columns(*colunas):\n",
    "    for c in colunas:\n",
    "        return df.drop(columns=c)"
   ]
  },
  {
   "cell_type": "code",
   "execution_count": 3,
   "metadata": {},
   "outputs": [],
   "source": [
    "def clean(df_clean):\n",
    "    df_clean = drop_columns(['Unnamed: 0', 'rating', 'voters', 'price','currency', 'description', 'publisher', 'page_count', 'generes','language', 'published_date'])\n",
    "    df_clean[\"check_duplicated\"] = df_clean[\"ISBN\"].duplicated()\n",
    "    df_clean = df_clean.drop(df_clean[df_clean['check_duplicated'] == True].index)\n",
    "    df_clean = df_clean.drop(columns=['check_duplicated'])\n",
    "    df_clean = df_clean.set_index('ISBN')\n",
    "    return df_clean"
   ]
  },
  {
   "cell_type": "code",
   "execution_count": 4,
   "metadata": {},
   "outputs": [],
   "source": [
    "df_clean = clean(df)"
   ]
  },
  {
   "cell_type": "code",
   "execution_count": 5,
   "metadata": {},
   "outputs": [
    {
     "data": {
      "text/html": [
       "<div>\n",
       "<style scoped>\n",
       "    .dataframe tbody tr th:only-of-type {\n",
       "        vertical-align: middle;\n",
       "    }\n",
       "\n",
       "    .dataframe tbody tr th {\n",
       "        vertical-align: top;\n",
       "    }\n",
       "\n",
       "    .dataframe thead th {\n",
       "        text-align: right;\n",
       "    }\n",
       "</style>\n",
       "<table border=\"1\" class=\"dataframe\">\n",
       "  <thead>\n",
       "    <tr style=\"text-align: right;\">\n",
       "      <th></th>\n",
       "      <th>title</th>\n",
       "      <th>author</th>\n",
       "    </tr>\n",
       "    <tr>\n",
       "      <th>ISBN</th>\n",
       "      <th></th>\n",
       "      <th></th>\n",
       "    </tr>\n",
       "  </thead>\n",
       "  <tbody>\n",
       "    <tr>\n",
       "      <th>9781612626864</th>\n",
       "      <td>Attack on Titan: Volume 13</td>\n",
       "      <td>Hajime Isayama</td>\n",
       "    </tr>\n",
       "    <tr>\n",
       "      <th>9780758272799</th>\n",
       "      <td>Antiques Roadkill: A Trash 'n' Treasures Mystery</td>\n",
       "      <td>Barbara Allan</td>\n",
       "    </tr>\n",
       "    <tr>\n",
       "      <th>9781506713816</th>\n",
       "      <td>The Art of Super Mario Odyssey</td>\n",
       "      <td>Nintendo</td>\n",
       "    </tr>\n",
       "    <tr>\n",
       "      <th>9781617734076</th>\n",
       "      <td>Getting Away Is Deadly: An Ellie Avery Mystery</td>\n",
       "      <td>Sara Rosett</td>\n",
       "    </tr>\n",
       "    <tr>\n",
       "      <th>9780007287758</th>\n",
       "      <td>The Painted Man (The Demon Cycle, Book 1)</td>\n",
       "      <td>Peter V. Brett</td>\n",
       "    </tr>\n",
       "  </tbody>\n",
       "</table>\n",
       "</div>"
      ],
      "text/plain": [
       "                                                          title  \\\n",
       "ISBN                                                              \n",
       "9781612626864                        Attack on Titan: Volume 13   \n",
       "9780758272799  Antiques Roadkill: A Trash 'n' Treasures Mystery   \n",
       "9781506713816                    The Art of Super Mario Odyssey   \n",
       "9781617734076    Getting Away Is Deadly: An Ellie Avery Mystery   \n",
       "9780007287758         The Painted Man (The Demon Cycle, Book 1)   \n",
       "\n",
       "                       author  \n",
       "ISBN                           \n",
       "9781612626864  Hajime Isayama  \n",
       "9780758272799   Barbara Allan  \n",
       "9781506713816        Nintendo  \n",
       "9781617734076     Sara Rosett  \n",
       "9780007287758  Peter V. Brett  "
      ]
     },
     "execution_count": 5,
     "metadata": {},
     "output_type": "execute_result"
    }
   ],
   "source": [
    "df_clean.head()"
   ]
  },
  {
   "cell_type": "code",
   "execution_count": 6,
   "metadata": {},
   "outputs": [],
   "source": [
    "df = df_clean[~df_clean.index.str.contains(\"9\")]"
   ]
  },
  {
   "cell_type": "code",
   "execution_count": 7,
   "metadata": {},
   "outputs": [
    {
     "data": {
      "text/html": [
       "<div>\n",
       "<style scoped>\n",
       "    .dataframe tbody tr th:only-of-type {\n",
       "        vertical-align: middle;\n",
       "    }\n",
       "\n",
       "    .dataframe tbody tr th {\n",
       "        vertical-align: top;\n",
       "    }\n",
       "\n",
       "    .dataframe thead th {\n",
       "        text-align: right;\n",
       "    }\n",
       "</style>\n",
       "<table border=\"1\" class=\"dataframe\">\n",
       "  <thead>\n",
       "    <tr style=\"text-align: right;\">\n",
       "      <th></th>\n",
       "      <th>title</th>\n",
       "      <th>author</th>\n",
       "    </tr>\n",
       "    <tr>\n",
       "      <th>ISBN</th>\n",
       "      <th></th>\n",
       "      <th></th>\n",
       "    </tr>\n",
       "  </thead>\n",
       "  <tbody>\n",
       "    <tr>\n",
       "      <th>Original pages</th>\n",
       "      <td>My Little Pony: Friendship is Magic #83</td>\n",
       "      <td>Thom Zahler</td>\n",
       "    </tr>\n",
       "    <tr>\n",
       "      <th>Flowing text</th>\n",
       "      <td>Death in an Elegant City: An English Village M...</td>\n",
       "      <td>Sara Rosett</td>\n",
       "    </tr>\n",
       "    <tr>\n",
       "      <th>Flowing text, Google-generated PDF</th>\n",
       "      <td>Moby Dick. Illustrated edition</td>\n",
       "      <td>Melville Herman</td>\n",
       "    </tr>\n",
       "  </tbody>\n",
       "</table>\n",
       "</div>"
      ],
      "text/plain": [
       "                                                                                title  \\\n",
       "ISBN                                                                                    \n",
       "Original pages                                My Little Pony: Friendship is Magic #83   \n",
       "Flowing text                        Death in an Elegant City: An English Village M...   \n",
       "Flowing text, Google-generated PDF                     Moby Dick. Illustrated edition   \n",
       "\n",
       "                                             author  \n",
       "ISBN                                                 \n",
       "Original pages                          Thom Zahler  \n",
       "Flowing text                            Sara Rosett  \n",
       "Flowing text, Google-generated PDF  Melville Herman  "
      ]
     },
     "execution_count": 7,
     "metadata": {},
     "output_type": "execute_result"
    }
   ],
   "source": [
    "df"
   ]
  },
  {
   "cell_type": "code",
   "execution_count": 8,
   "metadata": {},
   "outputs": [],
   "source": [
    "df_clean = df_clean.drop('Original pages')"
   ]
  },
  {
   "cell_type": "code",
   "execution_count": 9,
   "metadata": {},
   "outputs": [],
   "source": [
    "df_clean = df_clean.drop('Flowing text')"
   ]
  },
  {
   "cell_type": "code",
   "execution_count": 10,
   "metadata": {},
   "outputs": [],
   "source": [
    "df_clean = df_clean.drop('Flowing text, Google-generated PDF')"
   ]
  },
  {
   "cell_type": "code",
   "execution_count": 11,
   "metadata": {},
   "outputs": [
    {
     "data": {
      "text/html": [
       "<div>\n",
       "<style scoped>\n",
       "    .dataframe tbody tr th:only-of-type {\n",
       "        vertical-align: middle;\n",
       "    }\n",
       "\n",
       "    .dataframe tbody tr th {\n",
       "        vertical-align: top;\n",
       "    }\n",
       "\n",
       "    .dataframe thead th {\n",
       "        text-align: right;\n",
       "    }\n",
       "</style>\n",
       "<table border=\"1\" class=\"dataframe\">\n",
       "  <thead>\n",
       "    <tr style=\"text-align: right;\">\n",
       "      <th></th>\n",
       "      <th>title</th>\n",
       "      <th>author</th>\n",
       "    </tr>\n",
       "    <tr>\n",
       "      <th>ISBN</th>\n",
       "      <th></th>\n",
       "      <th></th>\n",
       "    </tr>\n",
       "  </thead>\n",
       "  <tbody>\n",
       "    <tr>\n",
       "      <th>9781612626864</th>\n",
       "      <td>Attack on Titan: Volume 13</td>\n",
       "      <td>Hajime Isayama</td>\n",
       "    </tr>\n",
       "    <tr>\n",
       "      <th>9780758272799</th>\n",
       "      <td>Antiques Roadkill: A Trash 'n' Treasures Mystery</td>\n",
       "      <td>Barbara Allan</td>\n",
       "    </tr>\n",
       "    <tr>\n",
       "      <th>9781506713816</th>\n",
       "      <td>The Art of Super Mario Odyssey</td>\n",
       "      <td>Nintendo</td>\n",
       "    </tr>\n",
       "    <tr>\n",
       "      <th>9781617734076</th>\n",
       "      <td>Getting Away Is Deadly: An Ellie Avery Mystery</td>\n",
       "      <td>Sara Rosett</td>\n",
       "    </tr>\n",
       "    <tr>\n",
       "      <th>9780007287758</th>\n",
       "      <td>The Painted Man (The Demon Cycle, Book 1)</td>\n",
       "      <td>Peter V. Brett</td>\n",
       "    </tr>\n",
       "  </tbody>\n",
       "</table>\n",
       "</div>"
      ],
      "text/plain": [
       "                                                          title  \\\n",
       "ISBN                                                              \n",
       "9781612626864                        Attack on Titan: Volume 13   \n",
       "9780758272799  Antiques Roadkill: A Trash 'n' Treasures Mystery   \n",
       "9781506713816                    The Art of Super Mario Odyssey   \n",
       "9781617734076    Getting Away Is Deadly: An Ellie Avery Mystery   \n",
       "9780007287758         The Painted Man (The Demon Cycle, Book 1)   \n",
       "\n",
       "                       author  \n",
       "ISBN                           \n",
       "9781612626864  Hajime Isayama  \n",
       "9780758272799   Barbara Allan  \n",
       "9781506713816        Nintendo  \n",
       "9781617734076     Sara Rosett  \n",
       "9780007287758  Peter V. Brett  "
      ]
     },
     "execution_count": 11,
     "metadata": {},
     "output_type": "execute_result"
    }
   ],
   "source": [
    "df_clean.head()"
   ]
  },
  {
   "cell_type": "code",
   "execution_count": null,
   "metadata": {},
   "outputs": [],
   "source": []
  }
 ],
 "metadata": {
  "kernelspec": {
   "display_name": "Python 3",
   "language": "python",
   "name": "python3"
  },
  "language_info": {
   "codemirror_mode": {
    "name": "ipython",
    "version": 3
   },
   "file_extension": ".py",
   "mimetype": "text/x-python",
   "name": "python",
   "nbconvert_exporter": "python",
   "pygments_lexer": "ipython3",
   "version": "3.7.5"
  }
 },
 "nbformat": 4,
 "nbformat_minor": 4
}
